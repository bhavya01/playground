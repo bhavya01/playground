{
 "cells": [
  {
   "cell_type": "code",
   "execution_count": 1,
   "metadata": {},
   "outputs": [
    {
     "name": "stderr",
     "output_type": "stream",
     "text": [
      "WARNING:root:libtpu.so and TPU device found. Setting PJRT_DEVICE=TPU.\n"
     ]
    }
   ],
   "source": [
    "import torch\n",
    "import torch_xla\n",
    "import torch_xla.runtime as xr\n",
    "import torch_xla.model as xm\n",
    "import time\n",
    "\n",
    "xr.use_spmd()\n",
    "\n",
    "b = 8 # batch\n",
    "e = 8 # num_experts\n",
    "c = 1280 # capacity\n",
    "m = 4096 # model size\n",
    "s = 4096 # sequence length"
   ]
  },
  {
   "cell_type": "code",
   "execution_count": null,
   "metadata": {},
   "outputs": [],
   "source": [
    "x = torch.randn(b, s, m, dtype=torch.bfloat16).to('xla')\n",
    "y = torch.randn(b, s, e, c, dtype=torch.bfloat16).to('xla')\n",
    "\n",
    "start_time = time.time()\n",
    "for i in range(1000):\n",
    "    z = torch.einsum('bsm,bsec->becm', x, y)\n",
    "xm.wait_device_ops()\n",
    "print(f\"TIME: {time.time() - start_time}\")"
   ]
  }
 ],
 "metadata": {
  "kernelspec": {
   "display_name": "torchfeb11",
   "language": "python",
   "name": "python3"
  },
  "language_info": {
   "codemirror_mode": {
    "name": "ipython",
    "version": 3
   },
   "file_extension": ".py",
   "mimetype": "text/x-python",
   "name": "python",
   "nbconvert_exporter": "python",
   "pygments_lexer": "ipython3",
   "version": "3.10.16"
  }
 },
 "nbformat": 4,
 "nbformat_minor": 2
}
