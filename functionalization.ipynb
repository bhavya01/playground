{
 "cells": [
  {
   "cell_type": "markdown",
   "metadata": {},
   "source": [
    "# Functionalization"
   ]
  },
  {
   "cell_type": "code",
   "execution_count": 3,
   "metadata": {},
   "outputs": [
    {
     "name": "stdout",
     "output_type": "stream",
     "text": [
      "XLATensor {\n",
      "TensorID: 4\n",
      "AliasID: 4\n",
      "Device: TPU:0\n",
      "XLA Shape: f32[10,10]\n",
      "ShardingSpec: None\n",
      "IR: [UNKNOWN_SCALAR[]] xla::device_data, xla_shape=f32[10,10]{1,0}, dynamic_dims: (), device=TPU:0\n",
      "XLAData: None\n",
      "Tensor on host: None\n",
      "}\n",
      "\n",
      "XLATensor {\n",
      "TensorID: 4\n",
      "AliasID: 4\n",
      "Device: TPU:0\n",
      "XLA Shape: f32[10,10]\n",
      "ShardingSpec: None\n",
      "IR: [] aten::add, xla_shape=f32[10,10]{1,0}, dynamic_dims: ()\n",
      "XLAData: None\n",
      "Tensor on host: None\n",
      "}\n",
      "\n",
      "HloModule IrToHlo.8, entry_computation_layout={(f32[10,10]{1,0})->(f32[10,10]{1,0})}\n",
      "\n",
      "ENTRY %IrToHlo.8 (p0.3: f32[10,10]) -> (f32[10,10]) {\n",
      "  %p0.3 = f32[10,10]{1,0} parameter(0)\n",
      "  %constant.2 = f32[] constant(1)\n",
      "  %constant.1 = f32[] constant(1)\n",
      "  %multiply.4 = f32[] multiply(f32[] %constant.2, f32[] %constant.1)\n",
      "  %broadcast.5 = f32[10,10]{1,0} broadcast(f32[] %multiply.4), dimensions={}\n",
      "  %add.6 = f32[10,10]{1,0} add(f32[10,10]{1,0} %p0.3, f32[10,10]{1,0} %broadcast.5)\n",
      "  ROOT %tuple.7 = (f32[10,10]{1,0}) tuple(f32[10,10]{1,0} %add.6)\n",
      "}\n",
      "\n",
      "\n",
      "None\n"
     ]
    }
   ],
   "source": [
    "import torch\n",
    "import torch_xla\n",
    "import os\n",
    "\n",
    "os.environ[\"XLA_DISABLE_FUNCTIONALIZATION\"] = \"1\"\n",
    "\n",
    "t = torch.randn(10,10).to('xla')\n",
    "print(torch_xla._XLAC._get_xla_tensor_debug_info(t))\n",
    "t += 1\n",
    "print(torch_xla._XLAC._get_xla_tensor_debug_info(t))\n",
    "print(print(torch_xla._XLAC._get_xla_tensors_hlo([t])))"
   ]
  },
  {
   "cell_type": "code",
   "execution_count": 4,
   "metadata": {},
   "outputs": [
    {
     "name": "stdout",
     "output_type": "stream",
     "text": [
      "XLATensor {\n",
      "TensorID: 7\n",
      "AliasID: 7\n",
      "Device: TPU:0\n",
      "XLA Shape: f32[10,10]\n",
      "ShardingSpec: None\n",
      "IR: [UNKNOWN_SCALAR[]] xla::device_data, xla_shape=f32[10,10]{1,0}, dynamic_dims: (), device=TPU:0\n",
      "XLAData: None\n",
      "Tensor on host: None\n",
      "}\n",
      "\n",
      "XLATensor {\n",
      "TensorID: 9\n",
      "AliasID: 7\n",
      "Device: TPU:0\n",
      "XLA Shape: f32[10,10]\n",
      "ShardingSpec: None\n",
      "IR: [] aten::add, xla_shape=f32[10,10]{1,0}, dynamic_dims: ()\n",
      "XLAData: None\n",
      "Tensor on host: None\n",
      "}\n",
      "\n",
      "HloModule IrToHlo.8, entry_computation_layout={(f32[10,10]{1,0})->(f32[10,10]{1,0})}\n",
      "\n",
      "ENTRY %IrToHlo.8 (p0.3: f32[10,10]) -> (f32[10,10]) {\n",
      "  %p0.3 = f32[10,10]{1,0} parameter(0)\n",
      "  %constant.2 = f32[] constant(1)\n",
      "  %constant.1 = f32[] constant(1)\n",
      "  %multiply.4 = f32[] multiply(f32[] %constant.2, f32[] %constant.1)\n",
      "  %broadcast.5 = f32[10,10]{1,0} broadcast(f32[] %multiply.4), dimensions={}\n",
      "  %add.6 = f32[10,10]{1,0} add(f32[10,10]{1,0} %p0.3, f32[10,10]{1,0} %broadcast.5)\n",
      "  ROOT %tuple.7 = (f32[10,10]{1,0}) tuple(f32[10,10]{1,0} %add.6)\n",
      "}\n",
      "\n",
      "\n",
      "None\n"
     ]
    }
   ],
   "source": [
    "os.environ[\"XLA_DISABLE_FUNCTIONALIZATION\"] = \"0\"\n",
    "\n",
    "t1 = torch.randn(10,10).to('xla')\n",
    "print(torch_xla._XLAC._get_xla_tensor_debug_info(t1))\n",
    "t1 += 1\n",
    "print(torch_xla._XLAC._get_xla_tensor_debug_info(t1))\n",
    "print(print(torch_xla._XLAC._get_xla_tensors_hlo([t1])))"
   ]
  },
  {
   "cell_type": "markdown",
   "metadata": {},
   "source": [
    "`SyncTensorCollection`\n",
    "\n",
    "Stores the indices of tensors to be synced during mark_step\n",
    "\n",
    "Includes a hash for the computation that includes the following values:\n",
    "* config.force_ltc_data: When we materialize the tensor, we trim the IR for all the nodes above them\n",
    "* HashCompilationEnv: Includes [topology](https://github.com/pytorch/xla/blob/2e4f073abb88ad9b10737036304b3a2bee7d4d4f/torch_xla/csrc/runtime/pjrt_computation_client.cc#L72). If XLA fails to describes topology, this is manually computed.\n",
    "* XLA_GIT_REV\n",
    "* \n",
    "\n",
    "`GetBufferDonor`"
   ]
  },
  {
   "cell_type": "code",
   "execution_count": null,
   "metadata": {},
   "outputs": [],
   "source": [
    "XlaTensorPtr: Pointer to XlaTensor that is a subclass of LazyTensor.\n",
    "\n",
    "* GetCurrentDataHandle: Returns BackendDataPtr. This seems like a pointer to actual data on the device but not sure. How to verify this"
   ]
  },
  {
   "cell_type": "markdown",
   "metadata": {},
   "source": [
    "Checkout [TensorBody.h](https://github.com/pytorch/pytorch/blob/main/aten/src/ATen/templates/TensorBody.h) for aten::Tensor implementation and see how the tensor classes are layered. \n",
    "\n",
    "How is the backend data actually stored?\n"
   ]
  },
  {
   "cell_type": "markdown",
   "metadata": {},
   "source": []
  }
 ],
 "metadata": {
  "kernelspec": {
   "display_name": "torchfeb11",
   "language": "python",
   "name": "python3"
  },
  "language_info": {
   "codemirror_mode": {
    "name": "ipython",
    "version": 3
   },
   "file_extension": ".py",
   "mimetype": "text/x-python",
   "name": "python",
   "nbconvert_exporter": "python",
   "pygments_lexer": "ipython3",
   "version": "3.10.16"
  }
 },
 "nbformat": 4,
 "nbformat_minor": 2
}
