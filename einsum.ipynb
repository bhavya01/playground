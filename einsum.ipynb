{
 "cells": [
  {
   "cell_type": "code",
   "execution_count": 5,
   "metadata": {},
   "outputs": [
    {
     "name": "stdout",
     "output_type": "stream",
     "text": [
      "IR {\n",
      "  %0 = f32[2,5,6]{2,1,0} xla::device_data(), xla_shape=f32[2,5,6]{2,1,0}\n",
      "  %1 = f32[2,3,4,5]{3,2,1,0} xla::device_data(), xla_shape=f32[2,3,4,5]{3,2,1,0}\n",
      "  %2 = f32[2,3,4,6]{3,2,1,0} aten::einsum(%1, %0), xla_shape=f32[2,3,4,6]{3,2,1,0}, ROOT=0\n",
      "}\n",
      "\n",
      "HloModule IrToHlo.6, entry_computation_layout={(f32[2,5,6]{2,1,0}, f32[2,3,4,5]{3,2,1,0})->(f32[2,3,4,6]{3,2,1,0})}\n",
      "\n",
      "ENTRY %IrToHlo.6 (p0.1: f32[2,5,6], p1.2: f32[2,3,4,5]) -> (f32[2,3,4,6]) {\n",
      "  %p1.2 = f32[2,3,4,5]{3,2,1,0} parameter(1)\n",
      "  %p0.1 = f32[2,5,6]{2,1,0} parameter(0)\n",
      "  %dot.3 = f32[2,3,4,6]{3,2,1,0} dot(f32[2,3,4,5]{3,2,1,0} %p1.2, f32[2,5,6]{2,1,0} %p0.1), lhs_batch_dims={0}, lhs_contracting_dims={3}, rhs_batch_dims={0}, rhs_contracting_dims={1}, frontend_attributes={grad_x=\"false\",grad_y=\"false\"}\n",
      "  %transpose.4 = f32[2,3,4,6]{3,2,1,0} transpose(f32[2,3,4,6]{3,2,1,0} %dot.3), dimensions={0,1,2,3}\n",
      "  ROOT %tuple.5 = (f32[2,3,4,6]{3,2,1,0}) tuple(f32[2,3,4,6]{3,2,1,0} %transpose.4)\n",
      "}\n",
      "\n",
      "\n"
     ]
    }
   ],
   "source": [
    "import torch_xla.runtime\n",
    "\n",
    "x = torch.randn(2, 3, 4, 5, requires_grad=True)\n",
    "y = torch.randn(2, 5, 6, requires_grad=True)\n",
    "\n",
    "with torch.enable_grad():\n",
    "  with torch_xla.runtime.xla_device():\n",
    "    x = x.to('xla').requires_grad_()\n",
    "    y = y.to('xla').requires_grad_()\n",
    "    out = torch.einsum(\"ebcm,emh->ebch\", x, y)\n",
    "\n",
    "print(torch_xla._XLAC._get_xla_tensors_text([out]))\n",
    "print(torch_xla._XLAC._get_xla_tensors_hlo([out]))"
   ]
  }
 ],
 "metadata": {
  "kernelspec": {
   "display_name": "Python 3 (ipykernel)",
   "language": "python",
   "name": "python3"
  },
  "language_info": {
   "codemirror_mode": {
    "name": "ipython",
    "version": 3
   },
   "file_extension": ".py",
   "mimetype": "text/x-python",
   "name": "python",
   "nbconvert_exporter": "python",
   "pygments_lexer": "ipython3",
   "version": "3.10.16"
  }
 },
 "nbformat": 4,
 "nbformat_minor": 2
}
