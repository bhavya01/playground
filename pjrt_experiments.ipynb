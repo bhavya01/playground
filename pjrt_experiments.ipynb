{
 "cells": [
  {
   "cell_type": "code",
   "execution_count": 1,
   "id": "e42d68a5",
   "metadata": {},
   "outputs": [
    {
     "name": "stderr",
     "output_type": "stream",
     "text": [
      "E0424 17:47:46.676000 1358401 torch/_inductor/codegen/cuda/cuda_env.py:22] Error getting cuda arch: Torch not compiled with CUDA enabled\n",
      "WARNING:root:libtpu.so and TPU device found. Setting PJRT_DEVICE=TPU.\n"
     ]
    }
   ],
   "source": [
    "import torch\n",
    "import torch_xla\n",
    "import torch_xla.debug.metrics as met"
   ]
  },
  {
   "cell_type": "code",
   "execution_count": 2,
   "id": "41889f58",
   "metadata": {},
   "outputs": [
    {
     "name": "stdout",
     "output_type": "stream",
     "text": [
      "Tensor t:  tensor([[-0.2041, -0.4420, -0.0778,  0.7142],\n",
      "        [ 0.6181,  0.5495, -2.4741, -0.2124],\n",
      "        [ 0.5365, -0.2358,  0.8105, -0.0652],\n",
      "        [-1.2121, -0.7303,  0.4324,  1.1092]])\n",
      "Tensor t1:  tensor([[-0.2041, -0.4420, -0.0778,  0.7142],\n",
      "        [ 0.6181,  0.5495, -2.4741, -0.2124],\n",
      "        [ 0.5365, -0.2358,  0.8105, -0.0652],\n",
      "        [-1.2121, -0.7303,  0.4324,  1.1092]], device='xla:0')\n",
      "Metric: TransferToDeviceTime\n",
      "  TotalSamples: 1\n",
      "  Accumulator: 139.820us\n",
      "  Percentiles: 1%=139.820us; 5%=139.820us; 10%=139.820us; 20%=139.820us; 50%=139.820us; 80%=139.820us; 90%=139.820us; 95%=139.820us; 99%=139.820us\n",
      "Metric: TransferFromDeviceTime\n",
      "  TotalSamples: 1\n",
      "  Accumulator: 004ms557.600us\n",
      "  Percentiles: 1%=004ms557.600us; 5%=004ms557.600us; 10%=004ms557.600us; 20%=004ms557.600us; 50%=004ms557.600us; 80%=004ms557.600us; 90%=004ms557.600us; 95%=004ms557.600us; 99%=004ms557.600us\n",
      "\n"
     ]
    }
   ],
   "source": [
    "t = torch.randn(4,4)\n",
    "\n",
    "t1 = t.to('xla:0')\n",
    "\n",
    "print(\"Tensor t: \", t)\n",
    "print(\"Tensor t1: \", t1)\n",
    "\n",
    "print(met.short_metrics_report())"
   ]
  },
  {
   "cell_type": "code",
   "execution_count": 3,
   "id": "add21074",
   "metadata": {},
   "outputs": [
    {
     "name": "stdout",
     "output_type": "stream",
     "text": [
      "Metric: CompileTime\n",
      "  TotalSamples: 1\n",
      "  Accumulator: 078ms537.466us\n",
      "  Percentiles: 1%=078ms537.466us; 5%=078ms537.466us; 10%=078ms537.466us; 20%=078ms537.466us; 50%=078ms537.466us; 80%=078ms537.466us; 90%=078ms537.466us; 95%=078ms537.466us; 99%=078ms537.466us\n",
      "Metric: TransferToDeviceTime\n",
      "  TotalSamples: 2\n",
      "  Accumulator: 229.360us\n",
      "  ValueRate: 001.513us / second\n",
      "  Rate: 0.0131929 / second\n",
      "  Percentiles: 1%=089.540us; 5%=089.540us; 10%=089.540us; 20%=089.540us; 50%=139.820us; 80%=139.820us; 90%=139.820us; 95%=139.820us; 99%=139.820us\n",
      "Metric: TransferFromDeviceTime\n",
      "  TotalSamples: 1\n",
      "  Accumulator: 004ms557.600us\n",
      "  Percentiles: 1%=004ms557.600us; 5%=004ms557.600us; 10%=004ms557.600us; 20%=004ms557.600us; 50%=004ms557.600us; 80%=004ms557.600us; 90%=004ms557.600us; 95%=004ms557.600us; 99%=004ms557.600us\n",
      "Counter: MarkStep\n",
      "  Value: 1\n",
      "\n"
     ]
    }
   ],
   "source": [
    "t2 = torch.randn(4,4, device='xla:0')\n",
    "\n",
    "t3 = t1 + t2\n",
    "torch_xla.sync()\n",
    "print(met.short_metrics_report())"
   ]
  }
 ],
 "metadata": {
  "kernelspec": {
   "display_name": "torch310",
   "language": "python",
   "name": "python3"
  },
  "language_info": {
   "codemirror_mode": {
    "name": "ipython",
    "version": 3
   },
   "file_extension": ".py",
   "mimetype": "text/x-python",
   "name": "python",
   "nbconvert_exporter": "python",
   "pygments_lexer": "ipython3",
   "version": "3.10.16"
  }
 },
 "nbformat": 4,
 "nbformat_minor": 5
}
