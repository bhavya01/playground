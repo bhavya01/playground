{
 "cells": [
  {
   "cell_type": "code",
   "execution_count": 5,
   "metadata": {},
   "outputs": [],
   "source": [
    "import os\n",
    "os.environ[\"XLA_FLAGS\"] = \"--xla_dump_to=/home/bbahl/hlo\""
   ]
  },
  {
   "cell_type": "code",
   "execution_count": null,
   "metadata": {},
   "outputs": [
    {
     "name": "stdout",
     "output_type": "stream",
     "text": [
      "DEBUG running backward\n",
      "HloModule IrToHlo.19, entry_computation_layout={()->(f32[8,8]{1,0})}\n",
      "\n",
      "ENTRY %IrToHlo.19 () -> (f32[8,8]) {\n",
      "  %constant.8 = f32[] constant(0)\n",
      "  %reshape.9 = f32[1]{0} reshape(f32[] %constant.8)\n",
      "  %broadcast.10 = f32[1]{0} broadcast(f32[1]{0} %reshape.9), dimensions={0}\n",
      "  %broadcast.13 = f32[8,1]{1,0} broadcast(f32[1]{0} %broadcast.10), dimensions={1}\n",
      "  %reshape.14 = f32[8]{0} reshape(f32[8,1]{1,0} %broadcast.13)\n",
      "  %broadcast.15 = f32[8,8]{1,0} broadcast(f32[8]{0} %reshape.14), dimensions={0}\n",
      "  %constant.2 = f32[] constant(1)\n",
      "  %broadcast.3 = f32[] broadcast(f32[] %constant.2), dimensions={}\n",
      "  %reshape.4 = f32[1,1]{1,0} reshape(f32[] %broadcast.3)\n",
      "  %broadcast.5 = f32[1,1]{1,0} broadcast(f32[1,1]{1,0} %reshape.4), dimensions={0,1}\n",
      "  %reshape.6 = f32[] reshape(f32[1,1]{1,0} %broadcast.5)\n",
      "  %broadcast.7 = f32[8,8]{1,0} broadcast(f32[] %reshape.6), dimensions={}\n",
      "  %constant.1 = f32[] constant(1)\n",
      "  %broadcast.11 = f32[8,8]{1,0} broadcast(f32[] %constant.1), dimensions={}\n",
      "  %multiply.12 = f32[8,8]{1,0} multiply(f32[8,8]{1,0} %broadcast.7, f32[8,8]{1,0} %broadcast.11)\n",
      "  %add.16 = f32[8,8]{1,0} add(f32[8,8]{1,0} %broadcast.15, f32[8,8]{1,0} %multiply.12)\n",
      "  %custom-call.17 = f32[8,8]{1,0} custom-call(f32[8,8]{1,0} %add.16), custom_call_target=\"Sharding\", sharding={devices=[4,1]0,1,2,3}\n",
      "  ROOT %tuple.18 = (f32[8,8]{1,0}) tuple(f32[8,8]{1,0} %custom-call.17)\n",
      "}\n",
      "\n",
      "\n"
     ]
    },
    {
     "name": "stderr",
     "output_type": "stream",
     "text": [
      "/home/bbahl/miniconda3/envs/torchprime/lib/python3.10/site-packages/torch_xla/runtime.py:236: UserWarning: XLA_USE_SPMD is being deprecated. Use torch_xla.runtime.use_spmd() without setting XLA_USE_SPMD env-var.\n",
      "  warnings.warn(\"XLA_USE_SPMD is being deprecated. \"\n"
     ]
    }
   ],
   "source": [
    "import torch\n",
    "import torch_xla\n",
    "import torch_xla.distributed.spmd as xs\n",
    "import torch_xla.runtime as xr\n",
    "\n",
    "xr.use_spmd()\n",
    "\n",
    "class MarkShardingFunction(torch.autograd.Function):\n",
    "    @staticmethod\n",
    "    def forward(ctx, input: torch.Tensor, partition_spec):\n",
    "        \"\"\"\n",
    "        Forward pass: Mark the input tensor with sharding annotation.\n",
    "        \"\"\"\n",
    "        ctx.partition_spec = partition_spec\n",
    "        xs.mark_sharding(input, mesh, partition_spec)\n",
    "        return input\n",
    "\n",
    "\n",
    "    @staticmethod\n",
    "    def backward(ctx, grad_output):\n",
    "        \"\"\"\n",
    "        Backward pass: Mark the gradient with sharding annotation\n",
    "        \"\"\"\n",
    "        print(\"DEBUG running backward\")\n",
    "        partition_spec = ctx.partition_spec\n",
    "        zero = torch.zeros((1,), device=grad_output.device, dtype=grad_output.dtype)\n",
    "        new_grad_output = zero+grad_output\n",
    "        xs.mark_sharding(new_grad_output, mesh, partition_spec)\n",
    "        return new_grad_output, None\n",
    "        \n",
    "\n",
    "# Use the custom function\n",
    "x = torch.randn(8, 8, requires_grad=True)\n",
    "x = x.to('xla')\n",
    "mark_sharding = MarkShardingFunction.apply  # Shortcut to call the function\n",
    "mesh = xs.get_1d_mesh('a')\n",
    "xs.set_global_mesh(mesh)\n",
    "partition_spec = ('a', None)\n",
    "z = x@x\n",
    "z.retain_grad()\n",
    "y = mark_sharding(z, partition_spec)  # Forward pass\n",
    "t = y.sum()\n",
    "t.backward()\n",
    "print(torch_xla._XLAC._get_xla_tensors_hlo([z.grad]))\n",
    "torch_xla.sync()"
   ]
  },
  {
   "cell_type": "code",
   "execution_count": 18,
   "metadata": {},
   "outputs": [
    {
     "name": "stdout",
     "output_type": "stream",
     "text": [
      "module_0037.SyncTensorsGraph.28.after_codegen.txt\n",
      "module_0037.SyncTensorsGraph.28.after_optimizations-buffer-assignment.txt\n",
      "module_0037.SyncTensorsGraph.28.after_optimizations-memory-usage-report.txt\n",
      "module_0037.SyncTensorsGraph.28.after_optimizations.txt\n",
      "module_0037.SyncTensorsGraph.28.after_optimizations_after_buffer_assignment.txt\n",
      "module_0037.SyncTensorsGraph.28.after_optimizations_before_buffer_assignment.txt\n",
      "module_0037.SyncTensorsGraph.28.before_optimizations.txt\n",
      "module_0037.SyncTensorsGraph.28.execution_options.txt\n",
      "module_0037.SyncTensorsGraph.28.flagfile\n",
      "module_0037.SyncTensorsGraph.28.hlo_module_config.txt\n",
      "module_0037.SyncTensorsGraph.28.target_arguments.txt\n",
      "module_0037.SyncTensorsGraph.28.tpu_comp_env.txt\n",
      "module_0037.SyncTensorsGraph.28.transfer_stats.txt\n",
      "module_0041.ReplicateShardedData.6.after_codegen.txt\n",
      "module_0041.ReplicateShardedData.6.after_optimizations-buffer-assignment.txt\n",
      "module_0041.ReplicateShardedData.6.after_optimizations-memory-usage-report.txt\n",
      "module_0041.ReplicateShardedData.6.after_optimizations.txt\n",
      "module_0041.ReplicateShardedData.6.after_optimizations_after_buffer_assignment.txt\n",
      "module_0041.ReplicateShardedData.6.after_optimizations_before_buffer_assignment.txt\n",
      "module_0041.ReplicateShardedData.6.before_optimizations.txt\n",
      "module_0041.ReplicateShardedData.6.execution_options.txt\n",
      "module_0041.ReplicateShardedData.6.flagfile\n",
      "module_0041.ReplicateShardedData.6.hlo_module_config.txt\n",
      "module_0041.ReplicateShardedData.6.target_arguments.txt\n",
      "module_0041.ReplicateShardedData.6.tpu_comp_env.txt\n",
      "module_0041.ReplicateShardedData.6.transfer_stats.txt\n"
     ]
    }
   ],
   "source": [
    "!ls ../hlo"
   ]
  },
  {
   "cell_type": "code",
   "execution_count": 20,
   "metadata": {},
   "outputs": [
    {
     "name": "stdout",
     "output_type": "stream",
     "text": [
      "HloModule ReplicateShardedData.6, entry_computation_layout={(f32[8,8]{1,0:T(2,128)})->f32[8,8]{1,0:T(8,128)}}, num_partitions=4\n",
      "\n",
      "ENTRY ReplicateShardedData.6 {\n",
      "  p0.1 = f32[8,8]{1,0} parameter(0), sharding={devices=[4,1]0,1,2,3}\n",
      "  constant.2 = s32[] constant(0), sharding={replicated}\n",
      "  convert.3 = f32[] convert(constant.2), sharding={replicated}\n",
      "  broadcast.4 = f32[8,8]{1,0} broadcast(convert.3), dimensions={}, sharding={replicated}\n",
      "  ROOT add.5 = f32[8,8]{1,0} add(p0.1, broadcast.4), sharding={replicated}\n",
      "}\n",
      "\n"
     ]
    }
   ],
   "source": [
    "!cat ../hlo/module_0041.ReplicateShardedData.6.before_optimizations.txt"
   ]
  }
 ],
 "metadata": {
  "kernelspec": {
   "display_name": "torchprime",
   "language": "python",
   "name": "python3"
  },
  "language_info": {
   "codemirror_mode": {
    "name": "ipython",
    "version": 3
   },
   "file_extension": ".py",
   "mimetype": "text/x-python",
   "name": "python",
   "nbconvert_exporter": "python",
   "pygments_lexer": "ipython3",
   "version": "3.10.16"
  }
 },
 "nbformat": 4,
 "nbformat_minor": 2
}
