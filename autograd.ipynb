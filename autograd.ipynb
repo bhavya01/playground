{
 "cells": [
  {
   "cell_type": "code",
   "execution_count": 1,
   "metadata": {},
   "outputs": [
    {
     "name": "stderr",
     "output_type": "stream",
     "text": [
      "/home/bbahl/miniconda3/envs/torchprime/lib/python3.10/site-packages/torch_xla/__init__.py:251: UserWarning: `tensorflow` can conflict with `torch-xla`. Prefer `tensorflow-cpu` when using PyTorch/XLA. To silence this warning, `pip uninstall -y tensorflow && pip install tensorflow-cpu`. If you are in a notebook environment such as Colab or Kaggle, restart your notebook runtime afterwards.\n",
      "  warnings.warn(\n",
      "WARNING:root:libtpu.so and TPU device found. Setting PJRT_DEVICE=TPU.\n"
     ]
    }
   ],
   "source": [
    "import os\n",
    "os.environ[\"XLA_FLAGS\"] = \"--xla_dump_to=/home/bbahl/hlo\"\n",
    "from torch import nn\n",
    "import torch\n",
    "import torch_xla\n",
    "import torch_xla.distributed.spmd as xs\n",
    "import torch_xla.runtime as xr\n",
    "\n",
    "xr.use_spmd()\n",
    "mesh = xs.get_1d_mesh('a')\n",
    "xs.set_global_mesh(mesh)"
   ]
  },
  {
   "cell_type": "code",
   "execution_count": 2,
   "metadata": {},
   "outputs": [],
   "source": [
    "class MarkShardingFunction(torch.autograd.Function):\n",
    "    @staticmethod\n",
    "    def forward(ctx, input: torch.Tensor, partition_spec):\n",
    "        \"\"\"\n",
    "        Forward pass: Mark the input tensor with sharding annotation.\n",
    "        \"\"\"\n",
    "        ctx.partition_spec = partition_spec\n",
    "        mesh = xs.get_global_mesh()\n",
    "        print(\"DEBUG running forward\")\n",
    "        xs.mark_sharding(input, mesh, partition_spec)\n",
    "        return input\n",
    "\n",
    "\n",
    "    @staticmethod\n",
    "    def backward(ctx, grad_output):\n",
    "        \"\"\"\n",
    "        Backward pass: Mark the gradient with sharding annotation\n",
    "        \"\"\"\n",
    "        print(\"DEBUG running backward\")\n",
    "        partition_spec = ctx.partition_spec\n",
    "        mesh = xs.get_global_mesh()\n",
    "        zero = torch.zeros((1,), device=grad_output.device, dtype=grad_output.dtype)\n",
    "        new_grad_output = zero+grad_output\n",
    "        xs.mark_sharding(new_grad_output, mesh, partition_spec)\n",
    "        return new_grad_output, None, None\n",
    "        "
   ]
  },
  {
   "cell_type": "code",
   "execution_count": 3,
   "metadata": {},
   "outputs": [],
   "source": [
    "class SimpleLinearModel(nn.Module):\n",
    "    def __init__(self):\n",
    "        super().__init__()\n",
    "        self.w1 = nn.Linear(128, 128)\n",
    "        self.w2 = nn.Linear(128, 256)\n",
    "\n",
    "    def forward(self, x):\n",
    "        out = self.w1(x)\n",
    "        out.retain_grad()\n",
    "        MarkShardingFunction.apply(out, (None, 'a'))\n",
    "        out = self.w2(out)\n",
    "        return out"
   ]
  },
  {
   "cell_type": "code",
   "execution_count": 4,
   "metadata": {},
   "outputs": [
    {
     "name": "stdout",
     "output_type": "stream",
     "text": [
      "DEBUG running forward\n"
     ]
    }
   ],
   "source": [
    "model = SimpleLinearModel()\n",
    "model = model.to(torch.bfloat16).to('xla')\n",
    "x = torch.randn((10, 128), dtype=torch.bfloat16).to('xla')\n",
    "y = model(x)\n",
    "labels = torch.ones((10, 256), dtype=torch.bfloat16).to('xla')\n",
    "loss_func = nn.MSELoss()\n",
    "loss = loss_func(y, labels)\n",
    "loss.backward()"
   ]
  },
  {
   "cell_type": "code",
   "execution_count": null,
   "metadata": {},
   "outputs": [],
   "source": [
    "# Use the custom function\n",
    "x = torch.randn(8, 8, requires_grad=True)\n",
    "x = x.to('xla')\n",
    "partition_spec = ('a', None)\n",
    "z = x@x\n",
    "z.retain_grad()\n",
    "y = MarkShardingFunction.apply (z, partition_spec)  # Forward pass\n",
    "t = y.sum()\n",
    "t.backward()\n",
    "print(torch_xla._XLAC._get_xla_tensors_hlo([z.grad]))\n",
    "torch_xla.sync()"
   ]
  },
  {
   "cell_type": "code",
   "execution_count": null,
   "metadata": {},
   "outputs": [],
   "source": [
    "!ls ../hlo"
   ]
  },
  {
   "cell_type": "code",
   "execution_count": null,
   "metadata": {},
   "outputs": [],
   "source": [
    "!cat ../hlo/module_0041.ReplicateShardedData.6.before_optimizations.txt"
   ]
  }
 ],
 "metadata": {
  "kernelspec": {
   "display_name": "torchprime",
   "language": "python",
   "name": "python3"
  },
  "language_info": {
   "codemirror_mode": {
    "name": "ipython",
    "version": 3
   },
   "file_extension": ".py",
   "mimetype": "text/x-python",
   "name": "python",
   "nbconvert_exporter": "python",
   "pygments_lexer": "ipython3",
   "version": "3.10.16"
  }
 },
 "nbformat": 4,
 "nbformat_minor": 2
}
