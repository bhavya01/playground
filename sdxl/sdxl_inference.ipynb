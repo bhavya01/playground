{
 "cells": [
  {
   "cell_type": "markdown",
   "metadata": {},
   "source": [
    "StableDiffusionXLPipeline {\n",
    "  \"_class_name\": \"StableDiffusionXLPipeline\",\n",
    "  \"_diffusers_version\": \"0.32.2\",\n",
    "  \"_name_or_path\": \"stabilityai/stable-diffusion-xl-base-1.0\",\n",
    "  \"feature_extractor\": [\n",
    "    null,\n",
    "    null\n",
    "  ],\n",
    "  \"force_zeros_for_empty_prompt\": true,\n",
    "  \"image_encoder\": [\n",
    "    null,\n",
    "    null\n",
    "  ],\n",
    "  \"scheduler\": [\n",
    "    \"diffusers\",\n",
    "    \"EulerDiscreteScheduler\"\n",
    "  ],\n",
    "  \"text_encoder\": [\n",
    "    \"transformers\",\n",
    "    \"CLIPTextModel\"\n",
    "  ],\n",
    "  \"text_encoder_2\": [\n",
    "    \"transformers\",\n",
    "    \"CLIPTextModelWithProjection\"\n",
    "  ],\n",
    "  \"tokenizer\": [\n",
    "    \"transformers\",\n",
    "    \"CLIPTokenizer\"\n",
    "  ],\n",
    "  \"tokenizer_2\": [\n",
    "    \"transformers\",\n",
    "    \"CLIPTokenizer\"\n",
    "  ],\n",
    "  \"unet\": [\n",
    "    \"diffusers\",\n",
    "    \"UNet2DConditionModel\"\n",
    "  ],\n",
    "  \"vae\": [\n",
    "    \"diffusers\",\n",
    "    \"AutoencoderKL\"\n",
    "  ]\n",
    "}"
   ]
  },
  {
   "cell_type": "code",
   "execution_count": 2,
   "metadata": {},
   "outputs": [
    {
     "name": "stderr",
     "output_type": "stream",
     "text": [
      "/home/bbahl/.local/lib/python3.10/site-packages/tqdm/auto.py:21: TqdmWarning: IProgress not found. Please update jupyter and ipywidgets. See https://ipywidgets.readthedocs.io/en/stable/user_install.html\n",
      "  from .autonotebook import tqdm as notebook_tqdm\n",
      "/home/bbahl/miniconda3/envs/torchfeb11/lib/python3.10/site-packages/torch_xla/__init__.py:251: UserWarning: `tensorflow` can conflict with `torch-xla`. Prefer `tensorflow-cpu` when using PyTorch/XLA. To silence this warning, `pip uninstall -y tensorflow && pip install tensorflow-cpu`. If you are in a notebook environment such as Colab or Kaggle, restart your notebook runtime afterwards.\n",
      "  warnings.warn(\n",
      "WARNING:root:libtpu.so and TPU device found. Setting PJRT_DEVICE=TPU.\n",
      "2025-03-19 21:18:09.642177: E external/local_xla/xla/stream_executor/cuda/cuda_fft.cc:477] Unable to register cuFFT factory: Attempting to register factory for plugin cuFFT when one has already been registered\n",
      "WARNING: All log messages before absl::InitializeLog() is called are written to STDERR\n",
      "E0000 00:00:1742419089.868459  170170 cuda_dnn.cc:8310] Unable to register cuDNN factory: Attempting to register factory for plugin cuDNN when one has already been registered\n",
      "E0000 00:00:1742419089.936145  170170 cuda_blas.cc:1418] Unable to register cuBLAS factory: Attempting to register factory for plugin cuBLAS when one has already been registered\n",
      "Fetching 19 files: 100%|██████████| 19/19 [00:18<00:00,  1.03it/s]\n",
      "Loading pipeline components...: 100%|██████████| 7/7 [00:01<00:00,  6.21it/s]"
     ]
    },
    {
     "name": "stdout",
     "output_type": "stream",
     "text": [
      "An error occurred: Torch not compiled with CUDA enabled\n"
     ]
    },
    {
     "name": "stderr",
     "output_type": "stream",
     "text": [
      "\n"
     ]
    }
   ],
   "source": [
    "from diffusers import DiffusionPipeline\n",
    "import torch\n",
    "\n",
    "def generate_sdxl_image(prompt, negative_prompt=\"\", num_inference_steps=25, guidance_scale=7.5, output_path=\"generated_image.png\"):\n",
    "    \"\"\"\n",
    "    Generates an image using the Stable Diffusion XL (SDXL) model.\n",
    "\n",
    "    Args:\n",
    "        prompt (str): The text prompt to generate the image from.\n",
    "        negative_prompt (str, optional): The negative prompt to avoid unwanted features. Defaults to \"\".\n",
    "        num_inference_steps (int, optional): The number of denoising steps. Defaults to 25.\n",
    "        guidance_scale (float, optional): The guidance scale for classifier-free guidance. Defaults to 7.5.\n",
    "        output_path (str, optional): The path to save the generated image. Defaults to \"generated_image.png\".\n",
    "    \"\"\"\n",
    "\n",
    "    try:\n",
    "        # Load the SDXL pipeline\n",
    "        pipeline = DiffusionPipeline.from_pretrained(\n",
    "            \"stabilityai/stable-diffusion-xl-base-1.0\", torch_dtype=torch.float16, use_safetensors=True, variant=\"fp16\"\n",
    "        )\n",
    "        pipeline.to(\"cuda\") # or \"cpu\"\n",
    "\n",
    "        # Generate the image\n",
    "        image = pipeline(prompt=prompt, negative_prompt=negative_prompt, num_inference_steps=num_inference_steps, guidance_scale=guidance_scale).images[0]\n",
    "\n",
    "        # Save the image\n",
    "        image.save(output_path)\n",
    "        print(f\"Image saved to {output_path}\")\n",
    "\n",
    "    except Exception as e:\n",
    "        print(f\"An error occurred: {e}\")\n",
    "\n",
    "if __name__ == \"__main__\":\n",
    "    prompt = \"A majestic lion standing on a rocky cliff overlooking a vast savanna, golden hour, realistic, detailed.\"\n",
    "    negative_prompt = \"blurry, low quality, distorted, cartoon, anime\" # example negative prompt.\n",
    "    generate_sdxl_image(prompt, negative_prompt=negative_prompt)\n",
    "\n",
    "    # Example of other parameters\n",
    "    #generate_sdxl_image(prompt, num_inference_steps=30, guidance_scale=8.0)"
   ]
  },
  {
   "cell_type": "code",
   "execution_count": null,
   "metadata": {},
   "outputs": [
    {
     "name": "stderr",
     "output_type": "stream",
     "text": [
      "/home/bbahl/.local/lib/python3.10/site-packages/tqdm/auto.py:21: TqdmWarning: IProgress not found. Please update jupyter and ipywidgets. See https://ipywidgets.readthedocs.io/en/stable/user_install.html\n",
      "  from .autonotebook import tqdm as notebook_tqdm\n",
      "/home/bbahl/miniconda3/envs/torchfeb11/lib/python3.10/site-packages/torch_xla/__init__.py:251: UserWarning: `tensorflow` can conflict with `torch-xla`. Prefer `tensorflow-cpu` when using PyTorch/XLA. To silence this warning, `pip uninstall -y tensorflow && pip install tensorflow-cpu`. If you are in a notebook environment such as Colab or Kaggle, restart your notebook runtime afterwards.\n",
      "  warnings.warn(\n",
      "WARNING:root:libtpu.so and TPU device found. Setting PJRT_DEVICE=TPU.\n",
      "2025-03-19 22:12:03.105357: E external/local_xla/xla/stream_executor/cuda/cuda_fft.cc:477] Unable to register cuFFT factory: Attempting to register factory for plugin cuFFT when one has already been registered\n",
      "WARNING: All log messages before absl::InitializeLog() is called are written to STDERR\n",
      "E0000 00:00:1742422323.121137  178594 cuda_dnn.cc:8310] Unable to register cuDNN factory: Attempting to register factory for plugin cuDNN when one has already been registered\n",
      "E0000 00:00:1742422323.125810  178594 cuda_blas.cc:1418] Unable to register cuBLAS factory: Attempting to register factory for plugin cuBLAS when one has already been registered\n",
      "Loading pipeline components...: 100%|██████████| 7/7 [00:01<00:00,  6.63it/s]\n",
      "  0%|          | 0/50 [00:00<?, ?it/s]"
     ]
    }
   ],
   "source": [
    "from diffusers import DiffusionPipeline\n",
    "import torch\n",
    "import torch_xla.core.xla_model as xm\n",
    "from time import time\n",
    "\n",
    "model_id = \"stabilityai/stable-diffusion-xl-base-1.0\"\n",
    "pipe = DiffusionPipeline.from_pretrained(model_id)\n",
    "\n",
    "device = xm.xla_device()\n",
    "pipe.to(device)\n",
    "\n",
    "prompt = \"A pokemon with green eyes and red legs.\"\n",
    "start = time()\n",
    "inference_steps=2\n",
    "image = pipe(prompt, num_inference_steps=inference_steps).images[0]\n",
    "print(f'Compilation time is {time()-start} sec')\n",
    "image.save(\"pokemon.png\")\n",
    "\n",
    "start = time()\n",
    "image = pipe(prompt, num_inference_steps=inference_steps).images[0]\n",
    "print(f'Inference time is {time()-start} sec after compilation')"
   ]
  }
 ],
 "metadata": {
  "kernelspec": {
   "display_name": "torchfeb11",
   "language": "python",
   "name": "python3"
  },
  "language_info": {
   "codemirror_mode": {
    "name": "ipython",
    "version": 3
   },
   "file_extension": ".py",
   "mimetype": "text/x-python",
   "name": "python",
   "nbconvert_exporter": "python",
   "pygments_lexer": "ipython3",
   "version": "3.10.16"
  }
 },
 "nbformat": 4,
 "nbformat_minor": 2
}
